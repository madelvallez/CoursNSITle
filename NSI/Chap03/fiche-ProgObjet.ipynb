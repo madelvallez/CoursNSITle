{
  "nbformat": 4,
  "nbformat_minor": 0,
  "metadata": {
    "colab": {
      "name": "Untitled3.ipynb",
      "provenance": [],
      "include_colab_link": true
    },
    "kernelspec": {
      "name": "python3",
      "display_name": "Python 3"
    }
  },
  "cells": [
    {
      "cell_type": "markdown",
      "metadata": {
        "id": "view-in-github",
        "colab_type": "text"
      },
      "source": [
        "<a href=\"https://colab.research.google.com/github/madelvallez/Cours/blob/master/NSI/Chap03/fiche-ProgObjet.ipynb\" target=\"_parent\"><img src=\"https://colab.research.google.com/assets/colab-badge.svg\" alt=\"Open In Colab\"/></a>"
      ]
    },
    {
      "cell_type": "markdown",
      "metadata": {
        "id": "Ad1_HZWcjCSh"
      },
      "source": [
        "#Programmation orientée Objet\n",
        "\n",
        "Dans certaines situations, une variable se voit associer différentes informations. Pour faciliter le lien entre la variable et ses paramètres, il est possible dans de nombreux langages dont Python de créer un 'nouveau type' de variable avec ses propres paramètres basés sur un modèle programmmé précedement."
      ]
    },
    {
      "cell_type": "markdown",
      "metadata": {
        "id": "ClQDY0tWjNWC"
      },
      "source": [
        "##I. Vocabulaire\n",
        "\n",
        "La programmation orientée objet permet donc de regrouper les variables relatives à un même objet.\n",
        "\n",
        "Dans ce contexte:\n",
        "\n",
        "*   une **variable** est appelée **attribut**\n",
        "*   une **fonction** est appelée **méthode**\n",
        "*   chaque **objet** devient donc **instance d'une classe** \n",
        "\n",
        "Lors de l'appel de la classe à la création de l'objet, une méthode est *automatiquement* effectué. C'est le **constructeur**. Il permet d'initialiser les attributs de l'objet."
      ]
    },
    {
      "cell_type": "markdown",
      "metadata": {
        "id": "eLXJZYdSgGKG"
      },
      "source": [
        "##II. Programmation python\n",
        "###1) Syntaxe de base\n",
        "\n",
        "La déclaration d'une classe se fait avec la ligne ```class Nom_de_classe :``` suivit d'une **indentation** durant toute la définition.\n",
        "\n",
        "En python, le constructeur est `__init__` et a toujours au moins le paramètre `self` qui désigne l'objet créé.\n",
        "\n",
        "En ce qui concerne les méthodes, elles utilisent la même syntaxe que les fonctions python au détail de `self` qui est défini différement dans l'appel de la méthode (`var-self.methode(autres-paramètres)`)."
      ]
    },
    {
      "cell_type": "markdown",
      "metadata": {
        "id": "6GpcPtS5jtSb"
      },
      "source": [
        "####Exemple:\n",
        "\n",
        " Créons un objet Chrono ayant les fonctionnalité d'un chronomètre"
      ]
    },
    {
      "cell_type": "code",
      "metadata": {
        "id": "4d58LHCEkN9R"
      },
      "source": [
        "class Chrono:\n",
        "    \"\"\"classe dont les objets représentent un temps mesuré en heures, minutes, secondes\"\"\"\n",
        "    def __init__(self, h,m,s):\n",
        "        self.heures = h \n",
        "        self.minutes = m \n",
        "        self.secondes = s \n",
        "    \n",
        "    def avance(self, duree):\n",
        "        \"\"\"ajoute à un objet de type Chrono une durée mesurée en secondes\"\"\"\n",
        "        self.secondes += duree\n",
        "        # dépassement possible au delà de 60 secondes:\n",
        "        self.minutes += self.secondes // 60\n",
        "        self.secondes = self.secondes % 60\n",
        "        # dépassement possible au delà de 60 minutes\n",
        "        self.heures += self.minutes // 60\n",
        "        self.minutes = self.minutes % 60"
      ],
      "execution_count": null,
      "outputs": []
    },
    {
      "cell_type": "code",
      "metadata": {
        "id": "h3D1XqNfkUZA",
        "outputId": "797bfe5e-b77c-4ae1-84d4-e667f4668bc9",
        "colab": {
          "base_uri": "https://localhost:8080/",
          "height": 35
        }
      },
      "source": [
        "u = Chrono(1,59,59)\n",
        "u.avance(100)\n",
        "print(u.heures,'h ',u.minutes,'mn ',u.secondes,'sec')"
      ],
      "execution_count": null,
      "outputs": [
        {
          "output_type": "stream",
          "text": [
            "2 h  1 mn  39 sec\n"
          ],
          "name": "stdout"
        }
      ]
    },
    {
      "cell_type": "markdown",
      "metadata": {
        "id": "exnmVMnKlcQf"
      },
      "source": [
        "###2) Implémentation\n",
        "\n",
        "Une classe peut voir son implémentation varier d'un programmeur à un autre tout en conservant la même interface.\n",
        "\n",
        "Par convention, les méthodes d'implémentation sont définies avec un *underscore* au début du nom."
      ]
    },
    {
      "cell_type": "markdown",
      "metadata": {
        "id": "Jz6gvewmlAFA"
      },
      "source": [
        "###3) Méthodes particulières\n",
        "\n",
        "Python dispose de méthodes spécifiques appelées pour des actions communes comme une comparaison ou une addition:\n",
        "\n",
        "|méthode|appel|effet|\n",
        "|:------|:-----|:----|\n",
        "|`__str__(self)`|`str(obj)`|retourne une chaîne de caractère décrivant l'objet `obj`|\n",
        "|`__add__(self, v)`|`obj + v`| retourne un objet calculant la somme de obj et v|\n",
        "|`__eq__(self,v)`|`obj == v`|retourne True s'il y a égalité entre obj et v|\n",
        "|`__lt__(self,v)`|`obj < v`|retourne True si obj est strictement plus petit que v|\n",
        "| `__repr__(self)` | obj , return obj | retourne un chaine qui decrit l'objet (appelée par return) |\n",
        "\n"
      ]
    },
    {
      "cell_type": "markdown",
      "metadata": {
        "id": "HilfQecsnfhX"
      },
      "source": [
        "####Exemple:\n",
        "\n",
        "Completons la classe Chrono"
      ]
    },
    {
      "cell_type": "code",
      "metadata": {
        "id": "qDvcx-N4neEK"
      },
      "source": [
        "class Chrono:\n",
        "    def __init__(self, h,m,s):\n",
        "        self._nb_secondes = h*3600 + m*60 +s \n",
        "    \n",
        "    def _conversion(self):\n",
        "        s = self._nb_secondes\n",
        "        m = s // 60\n",
        "        s = s % 60\n",
        "        h = m // 60\n",
        "        m = m % 60\n",
        "        return (h,m,s)\n",
        "    \n",
        "    def __str__(self):\n",
        "        h,m,s = self._conversion()\n",
        "        return str(h)+'h '+str(m)+'min '+str(s)+'s'\n",
        "\n",
        "    \n",
        "    def _avance(self, duree):\n",
        "        self._nb_secondes += duree\n",
        "    \n",
        "    def _additionne(self, c2):\n",
        "        resu = Chrono(0,0,0)\n",
        "        resu._nb_secondes = self._nb_secondes + c2._nb_secondes\n",
        "        return resu\n",
        "    \n",
        "    def __add__(self,v):\n",
        "        if type(v)==Chrono:\n",
        "            return _additionnne(self,v)\n",
        "        return _avance(self,v)\n",
        "        \n",
        "    def __eq__(self,v):\n",
        "        return self._nb_secondes == v._nb_secondes"
      ],
      "execution_count": null,
      "outputs": []
    }
  ]
}